{
 "cells": [
  {
   "cell_type": "code",
   "execution_count": 219,
   "metadata": {},
   "outputs": [],
   "source": [
    "%matplotlib inline\n",
    "import numpy as np\n",
    "import pandas as pd\n",
    "import matplotlib.pyplot as plt"
   ]
  },
  {
   "cell_type": "code",
   "execution_count": 229,
   "metadata": {},
   "outputs": [],
   "source": [
    "def straight_line(x, a, b):\n",
    "    return a*x+ 0.01*x*x +b "
   ]
  },
  {
   "cell_type": "code",
   "execution_count": 230,
   "metadata": {},
   "outputs": [],
   "source": [
    "samples = 100\n",
    "x_vals = pd.Series(np.random.rand(samples)*20)\n",
    "#x_vals = pd.Series(range(1,samples+1))\n",
    "y_vals = straight_line(x_vals,5,8)+ 20*np.random.rand(samples)"
   ]
  },
  {
   "cell_type": "code",
   "execution_count": 231,
   "metadata": {},
   "outputs": [
    {
     "data": {
      "text/plain": [
       "<bound method NDFrame.head of 0     16.044976\n",
       "1      9.444427\n",
       "2     17.615608\n",
       "3     11.233528\n",
       "4      6.699162\n",
       "5      8.472952\n",
       "6     13.948516\n",
       "7     18.687425\n",
       "8      9.838204\n",
       "9     12.968333\n",
       "10    19.550191\n",
       "11    11.739950\n",
       "12     7.235446\n",
       "13    11.938456\n",
       "14    15.669860\n",
       "15    17.649530\n",
       "16     8.187775\n",
       "17     9.080786\n",
       "18     9.658569\n",
       "19     1.361624\n",
       "20     4.799316\n",
       "21    17.225295\n",
       "22    18.051580\n",
       "23     5.543554\n",
       "24    16.210370\n",
       "25     0.833349\n",
       "26     3.129378\n",
       "27     7.968543\n",
       "28    19.065629\n",
       "29     9.636492\n",
       "        ...    \n",
       "70    16.573715\n",
       "71     2.583099\n",
       "72    12.106996\n",
       "73     1.117606\n",
       "74    14.210205\n",
       "75    10.840455\n",
       "76     9.953626\n",
       "77    13.802661\n",
       "78    17.614985\n",
       "79     3.073780\n",
       "80    11.134950\n",
       "81     3.468530\n",
       "82    17.669999\n",
       "83    11.207892\n",
       "84     5.265946\n",
       "85     1.420157\n",
       "86     4.532958\n",
       "87     3.038126\n",
       "88     4.739983\n",
       "89    15.589519\n",
       "90    17.036318\n",
       "91     1.982967\n",
       "92    10.737029\n",
       "93    13.578344\n",
       "94    14.748739\n",
       "95    19.407698\n",
       "96    11.266049\n",
       "97     6.608840\n",
       "98    18.885591\n",
       "99     6.197196\n",
       "Length: 100, dtype: float64>"
      ]
     },
     "execution_count": 231,
     "metadata": {},
     "output_type": "execute_result"
    }
   ],
   "source": [
    "x_vals.shape\n",
    "x_vals.head"
   ]
  },
  {
   "cell_type": "code",
   "execution_count": 232,
   "metadata": {},
   "outputs": [
    {
     "data": {
      "text/plain": [
       "<bound method NDFrame.head of 0     109.011102\n",
       "1      64.450912\n",
       "2     111.846473\n",
       "3      73.938937\n",
       "4      52.317583\n",
       "5      70.587175\n",
       "6      83.684069\n",
       "7     116.563716\n",
       "8      67.818117\n",
       "9      87.875002\n",
       "10    120.667516\n",
       "11     80.379984\n",
       "12     58.404948\n",
       "13     80.920132\n",
       "14     92.799160\n",
       "15    107.848637\n",
       "16     69.144606\n",
       "17     55.409707\n",
       "18     75.219079\n",
       "19     33.543255\n",
       "20     41.085592\n",
       "21    110.647269\n",
       "22    106.710198\n",
       "23     54.116377\n",
       "24     97.990270\n",
       "25     31.463832\n",
       "26     40.023068\n",
       "27     49.918367\n",
       "28    112.543946\n",
       "29     75.649625\n",
       "         ...    \n",
       "70    108.117816\n",
       "71     31.468346\n",
       "72     83.417416\n",
       "73     14.481109\n",
       "74     87.143187\n",
       "75     76.451319\n",
       "76     59.618659\n",
       "77     86.075070\n",
       "78    112.546861\n",
       "79     42.722540\n",
       "80     66.642881\n",
       "81     27.364743\n",
       "82    100.116975\n",
       "83     79.505843\n",
       "84     40.891288\n",
       "85     35.034406\n",
       "86     40.412523\n",
       "87     34.501935\n",
       "88     45.642759\n",
       "89     92.489438\n",
       "90    103.120342\n",
       "91     35.782722\n",
       "92     75.948001\n",
       "93     83.142343\n",
       "94     95.944264\n",
       "95    127.185608\n",
       "96     73.824126\n",
       "97     42.396001\n",
       "98    108.307387\n",
       "99     45.686599\n",
       "Length: 100, dtype: float64>"
      ]
     },
     "execution_count": 232,
     "metadata": {},
     "output_type": "execute_result"
    }
   ],
   "source": [
    "y_vals.shape\n",
    "y_vals.head\n",
    "# type(y_vals)"
   ]
  },
  {
   "cell_type": "code",
   "execution_count": 237,
   "metadata": {},
   "outputs": [
    {
     "data": {
      "text/plain": [
       "<matplotlib.collections.PathCollection at 0x7fab62490160>"
      ]
     },
     "execution_count": 237,
     "metadata": {},
     "output_type": "execute_result"
    },
    {
     "data": {
      "image/png": "[encoded data removed]",
      "text/plain": [
       "<Figure size 432x288 with 1 Axes>"
      ]
     },
     "metadata": {
      "needs_background": "light"
     },
     "output_type": "display_data"
    }
   ],
   "source": [
    "plt.scatter( x_vals, y_vals, linewidth=0.5)"
   ]
  },
  {
   "cell_type": "code",
   "execution_count": 238,
   "metadata": {},
   "outputs": [],
   "source": [
    "df = pd.DataFrame({'x':x_vals,'y':y_vals})"
   ]
  },
  {
   "cell_type": "code",
   "execution_count": 239,
   "metadata": {},
   "outputs": [
    {
     "data": {
      "text/html": [
       "<div>\n",
       "<style scoped>\n",
       "    .dataframe tbody tr th:only-of-type {\n",
       "        vertical-align: middle;\n",
       "    }\n",
       "\n",
       "    .dataframe tbody tr th {\n",
       "        vertical-align: top;\n",
       "    }\n",
       "\n",
       "    .dataframe thead th {\n",
       "        text-align: right;\n",
       "    }\n",
       "</style>\n",
       "<table border=\"1\" class=\"dataframe\">\n",
       "  <thead>\n",
       "    <tr style=\"text-align: right;\">\n",
       "      <th></th>\n",
       "      <th>x</th>\n",
       "      <th>y</th>\n",
       "    </tr>\n",
       "  </thead>\n",
       "  <tbody>\n",
       "    <tr>\n",
       "      <th>x</th>\n",
       "      <td>1.000000</td>\n",
       "      <td>0.980931</td>\n",
       "    </tr>\n",
       "    <tr>\n",
       "      <th>y</th>\n",
       "      <td>0.980931</td>\n",
       "      <td>1.000000</td>\n",
       "    </tr>\n",
       "  </tbody>\n",
       "</table>\n",
       "</div>"
      ],
      "text/plain": [
       "          x         y\n",
       "x  1.000000  0.980931\n",
       "y  0.980931  1.000000"
      ]
     },
     "execution_count": 239,
     "metadata": {},
     "output_type": "execute_result"
    }
   ],
   "source": [
    "df.corr()"
   ]
  },
  {
   "cell_type": "code",
   "execution_count": 236,
   "metadata": {},
   "outputs": [],
   "source": [
    "df.to_csv('linear_all.csv',index=False,\n",
    "          columns=['x','y'])"
   ]
  },
  {
   "cell_type": "code",
   "execution_count": null,
   "metadata": {},
   "outputs": [],
   "source": []
  }
 ],
 "metadata": {
  "kernelspec": {
   "display_name": "Python 3",
   "language": "python",
   "name": "python3"
  },
  "language_info": {
   "codemirror_mode": {
    "name": "ipython",
    "version": 3
   },
   "file_extension": ".py",
   "mimetype": "text/x-python",
   "name": "python",
   "nbconvert_exporter": "python",
   "pygments_lexer": "ipython3",
   "version": "3.6.8"
  }
 },
 "nbformat": 4,
 "nbformat_minor": 2
}
